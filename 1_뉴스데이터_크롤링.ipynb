{
 "cells": [
  {
   "cell_type": "code",
   "execution_count": 1,
   "id": "5d14ac4c",
   "metadata": {},
   "outputs": [
    {
     "name": "stdout",
     "output_type": "stream",
     "text": [
      "기사 개수: 10\n"
     ]
    }
   ],
   "source": [
    "import requests\n",
    "from bs4 import BeautifulSoup\n",
    "news_rss = requests.get('https://news.sbs.co.kr/news/TopicRssFeed.do?plink=RSSREADER')\n",
    "news_rss_soup = BeautifulSoup(news_rss.content, 'xml')\n",
    "link_list = news_rss_soup.select('item link')\n",
    "print(\"기사 개수:\", len(link_list))"
   ]
  },
  {
   "cell_type": "code",
   "execution_count": 2,
   "id": "b59b5f60",
   "metadata": {},
   "outputs": [
    {
     "data": {
      "text/plain": [
       "['https://news.sbs.co.kr/news/endPage.do?news_id=N1008197547&plink=RSSLINK&cooper=RSSREADER',\n",
       " 'https://news.sbs.co.kr/news/endPage.do?news_id=N1008197544&plink=RSSLINK&cooper=RSSREADER',\n",
       " 'https://news.sbs.co.kr/news/endPage.do?news_id=N1008197612&plink=RSSLINK&cooper=RSSREADER',\n",
       " 'https://news.sbs.co.kr/news/endPage.do?news_id=N1008197607&plink=RSSLINK&cooper=RSSREADER',\n",
       " 'https://news.sbs.co.kr/news/endPage.do?news_id=N1008197589&plink=RSSLINK&cooper=RSSREADER',\n",
       " 'https://news.sbs.co.kr/news/endPage.do?news_id=N1008197389&plink=RSSLINK&cooper=RSSREADER',\n",
       " 'https://news.sbs.co.kr/news/endPage.do?news_id=N1008197388&plink=RSSLINK&cooper=RSSREADER',\n",
       " 'https://news.sbs.co.kr/news/endPage.do?news_id=N1008197386&plink=RSSLINK&cooper=RSSREADER',\n",
       " 'https://news.sbs.co.kr/news/endPage.do?news_id=N1008197385&plink=RSSLINK&cooper=RSSREADER',\n",
       " 'https://news.sbs.co.kr/news/endPage.do?news_id=N1008197372&plink=RSSLINK&cooper=RSSREADER']"
      ]
     },
     "execution_count": 2,
     "metadata": {},
     "output_type": "execute_result"
    }
   ],
   "source": [
    "title_list = [title.text for title in link_list]\n",
    "title_list"
   ]
  },
  {
   "cell_type": "code",
   "execution_count": 3,
   "id": "b77cdc76",
   "metadata": {},
   "outputs": [
    {
     "name": "stdout",
     "output_type": "stream",
     "text": [
      "Save complete\n"
     ]
    }
   ],
   "source": [
    "news_data = []\n",
    "\n",
    "for link in link_list:\n",
    "    news_response = requests.get(link.text)\n",
    "    news_content_soup = BeautifulSoup(news_response.content, 'html.parser')\n",
    "    news_content = news_content_soup.select_one(\"div[itemprop=articleBody]\")\n",
    "    news_data.append(news_content)\n",
    "\n",
    "import pandas as pd\n",
    "news_df = pd.DataFrame(data={'title': title_list, 'content': news_data})\n",
    "news_df.to_csv(\"news.csv\", encoding=\"utf-8-sig\", index=False)\n",
    "print(\"Save complete\")"
   ]
  },
  {
   "cell_type": "markdown",
   "id": "02f5584b",
   "metadata": {},
   "source": [
    "# 매일뉴스 크롤링"
   ]
  },
  {
   "cell_type": "code",
   "execution_count": 4,
   "id": "f139f8e5",
   "metadata": {},
   "outputs": [
    {
     "name": "stdout",
     "output_type": "stream",
     "text": [
      "기사 개수: 50\n"
     ]
    }
   ],
   "source": [
    "import requests\n",
    "from bs4 import BeautifulSoup\n",
    "news_rss = requests.get('https://www.mk.co.kr/rss/40300001/')\n",
    "news_rss_soup = BeautifulSoup(news_rss.content, 'xml')\n",
    "link_list = news_rss_soup.select('item link')\n",
    "print(\"기사 개수:\", len(link_list))"
   ]
  },
  {
   "cell_type": "code",
   "execution_count": 7,
   "id": "8b4ee043",
   "metadata": {},
   "outputs": [
    {
     "data": {
      "text/plain": [
       "['https://www.mk.co.kr/news/society/11380762',\n",
       " 'https://www.mk.co.kr/news/world/11380758',\n",
       " 'https://www.mk.co.kr/news/business/11380752',\n",
       " 'https://www.mk.co.kr/news/world/11380749',\n",
       " 'https://www.mk.co.kr/news/society/11380746',\n",
       " 'https://www.mk.co.kr/news/world/11380745',\n",
       " 'https://www.mk.co.kr/news/business/11380278',\n",
       " 'https://www.mk.co.kr/news/stock/11380739',\n",
       " 'https://www.mk.co.kr/news/business/11380734',\n",
       " 'https://www.mk.co.kr/news/world/11380717',\n",
       " 'https://www.mk.co.kr/news/realestate/11380707',\n",
       " 'https://www.mk.co.kr/news/realestate/11380706',\n",
       " 'https://www.mk.co.kr/news/society/11380705',\n",
       " 'https://www.mk.co.kr/news/society/11380704',\n",
       " 'https://www.mk.co.kr/news/politics/11380703',\n",
       " 'https://www.mk.co.kr/news/world/11380702',\n",
       " 'https://www.mk.co.kr/news/world/11380697',\n",
       " 'https://www.mk.co.kr/news/stock/11380698',\n",
       " 'https://www.mk.co.kr/news/stock/11380696',\n",
       " 'https://www.mk.co.kr/news/world/11380695',\n",
       " 'https://www.mk.co.kr/news/business/11380686',\n",
       " 'https://www.mk.co.kr/news/economy/11380685',\n",
       " 'https://www.mk.co.kr/news/culture/11380681',\n",
       " 'https://www.mk.co.kr/news/culture/11380679',\n",
       " 'https://www.mk.co.kr/news/culture/11380678',\n",
       " 'https://www.mk.co.kr/news/culture/11380677',\n",
       " 'https://www.mk.co.kr/news/culture/11380676',\n",
       " 'https://www.mk.co.kr/news/realestate/11380675',\n",
       " 'https://www.mk.co.kr/news/culture/11380674',\n",
       " 'https://www.mk.co.kr/news/culture/11380673',\n",
       " 'https://www.mk.co.kr/news/economy/11380671',\n",
       " 'https://www.mk.co.kr/news/politics/11380670',\n",
       " 'https://www.mk.co.kr/news/economy/11380593',\n",
       " 'https://www.mk.co.kr/news/politics/11380667',\n",
       " 'https://www.mk.co.kr/news/society/11380664',\n",
       " 'https://www.mk.co.kr/news/business/11380662',\n",
       " 'https://www.mk.co.kr/news/world/11380661',\n",
       " 'https://www.mk.co.kr/news/business/11380660',\n",
       " 'https://www.mk.co.kr/news/society/11380659',\n",
       " 'https://www.mk.co.kr/news/stock/11380658',\n",
       " 'https://www.mk.co.kr/news/world/11380343',\n",
       " 'https://www.mk.co.kr/news/business/11380652',\n",
       " 'https://www.mk.co.kr/news/realestate/11380651',\n",
       " 'https://www.mk.co.kr/news/business/11380648',\n",
       " 'https://www.mk.co.kr/news/economy/11380647',\n",
       " 'https://www.mk.co.kr/news/world/11380642',\n",
       " 'https://www.mk.co.kr/news/world/11380628',\n",
       " 'https://www.mk.co.kr/news/stock/11380625',\n",
       " 'https://www.mk.co.kr/news/stock/11380623',\n",
       " 'https://www.mk.co.kr/news/world/11380622']"
      ]
     },
     "execution_count": 7,
     "metadata": {},
     "output_type": "execute_result"
    }
   ],
   "source": [
    "title_list = [title.text for title in link_list]\n",
    "title_list"
   ]
  },
  {
   "cell_type": "code",
   "execution_count": 8,
   "id": "ff0b60f3",
   "metadata": {},
   "outputs": [
    {
     "name": "stdout",
     "output_type": "stream",
     "text": [
      "Save complete\n"
     ]
    }
   ],
   "source": [
    "news_data = []\n",
    "\n",
    "for link in link_list:\n",
    "    news_response = requests.get(link.text)\n",
    "    news_content_soup = BeautifulSoup(news_response.content, 'html.parser')\n",
    "    news_content = news_content_soup.select_one(\"div[itemprop=articleBody]\")\n",
    "    news_data.append(news_content)\n",
    "\n",
    "import pandas as pd\n",
    "news_df = pd.DataFrame(data={'title': title_list, 'content': news_data})\n",
    "news_df.to_csv(\"news.csv\", encoding=\"utf-8-sig\", index=False)\n",
    "print(\"Save complete\")"
   ]
  }
 ],
 "metadata": {
  "kernelspec": {
   "display_name": "webcrawl_env",
   "language": "python",
   "name": "python3"
  },
  "language_info": {
   "codemirror_mode": {
    "name": "ipython",
    "version": 3
   },
   "file_extension": ".py",
   "mimetype": "text/x-python",
   "name": "python",
   "nbconvert_exporter": "python",
   "pygments_lexer": "ipython3",
   "version": "3.10.18"
  }
 },
 "nbformat": 4,
 "nbformat_minor": 5
}
